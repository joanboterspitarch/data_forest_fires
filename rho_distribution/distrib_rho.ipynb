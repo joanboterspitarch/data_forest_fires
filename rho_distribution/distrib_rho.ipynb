{
 "cells": [
  {
   "cell_type": "code",
   "execution_count": 19,
   "metadata": {},
   "outputs": [],
   "source": [
    "import numpy as np\n",
    "import pandas as pd\n",
    "import matplotlib.pyplot as plt\n",
    "import os \n",
    "import sys \n",
    "import seaborn as sns\n",
    "from scipy.stats import beta, gamma, norm, lognorm, expon, kstest, shapiro, anderson, cramervonmises, moment"
   ]
  },
  {
   "cell_type": "code",
   "execution_count": 20,
   "metadata": {},
   "outputs": [],
   "source": [
    "path = 'C:\\\\Users\\\\joanb\\\\Desktop\\\\data_incendios\\\\clima\\\\raw\\\\GVA\\\\'"
   ]
  },
  {
   "cell_type": "code",
   "execution_count": 21,
   "metadata": {},
   "outputs": [
    {
     "data": {
      "text/plain": [
       "['data_Alzira.txt', 'data_Artana.txt', 'data_Llutxent.txt', 'data_Montan.txt']"
      ]
     },
     "execution_count": 21,
     "metadata": {},
     "output_type": "execute_result"
    }
   ],
   "source": [
    "os.listdir(path)"
   ]
  },
  {
   "cell_type": "code",
   "execution_count": 22,
   "metadata": {},
   "outputs": [],
   "source": [
    "fechas = [\n",
    "    ('2016-06-01', '2016-08-31'),\n",
    "    ('2016-06-01', '2016-08-31'),\n",
    "    ('2018-06-01', '2018-08-31'),\n",
    "    ('2015-06-01', '2015-08-31'),\n",
    "]"
   ]
  },
  {
   "cell_type": "code",
   "execution_count": 23,
   "metadata": {},
   "outputs": [
    {
     "name": "stdout",
     "output_type": "stream",
     "text": [
      "data_Alzira.txt\n",
      "data_Artana.txt\n",
      "data_Llutxent.txt\n",
      "data_Montan.txt\n"
     ]
    },
    {
     "data": {
      "image/png": "[encoded data removed]",
      "text/plain": [
       "<Figure size 432x288 with 1 Axes>"
      ]
     },
     "metadata": {
      "needs_background": "light"
     },
     "output_type": "display_data"
    },
    {
     "name": "stdout",
     "output_type": "stream",
     "text": [
      "Test de Kolmogorov-Smirnov para la distribución : KS statistic = 0.207, p-value = 0.000\n",
      "Test de Shapiro-Wilk para la distribución : W = 0.844, p-value = 0.000\n",
      "Test de Anderson-Darling para la distribución : A2 = 161.965\n",
      "15.0% Nivel de Significación: 0.150, Valor Crítico: 0.922 => Se rechaza la hipótesis nula\n",
      "10.0% Nivel de Significación: 0.100, Valor Crítico: 1.078 => Se rechaza la hipótesis nula\n",
      "5.0% Nivel de Significación: 0.050, Valor Crítico: 1.341 => Se rechaza la hipótesis nula\n",
      "2.5% Nivel de Significación: 0.025, Valor Crítico: 1.606 => Se rechaza la hipótesis nula\n",
      "1.0% Nivel de Significación: 0.010, Valor Crítico: 1.957 => Se rechaza la hipótesis nula\n",
      "Test de Cramér-von Mises para la distribución : W2 = 60.554, p-value = 0.000\n"
     ]
    },
    {
     "name": "stderr",
     "output_type": "stream",
     "text": [
      "c:\\Users\\joanb\\AppData\\Local\\Programs\\Python\\Python310\\lib\\site-packages\\scipy\\stats\\_morestats.py:1761: UserWarning: p-value may not be accurate for N > 5000.\n",
      "  warnings.warn(\"p-value may not be accurate for N > 5000.\")\n"
     ]
    }
   ],
   "source": [
    "\n",
    "# Crear una lista para almacenar los datos\n",
    "sample = []\n",
    "\n",
    "for i, file in enumerate(os.listdir(path)):\n",
    "    \n",
    "    print(file)\n",
    "    df = pd.read_csv(path + file, sep=\"\\t\", encoding='ISO-8859-1')    \n",
    "    df['Fecha'] = pd.to_datetime(df['FECHA'], format='%d/%m/%Y')\n",
    "    inicio, fin = fechas[i]\n",
    "    df = df[(df['Fecha']>= inicio) & (df['Fecha']<= fin)]\n",
    "    df['Veloc.'] = df['Veloc.'].astype('str').str.replace(',', '.').astype('float')\n",
    "    sample.extend(df['Veloc.'].to_list())\n",
    "\n",
    "# Convertir la lista en un arreglo de NumPy y eliminar los valores NaN\n",
    "sample = 3.6* np.array(sample, dtype='float')\n",
    "sample = sample[~np.isnan(sample)]\n",
    "\n",
    "# Ajustar una distribución exponencial a la muestra\n",
    "params_exp = expon.fit(sample)\n",
    "\n",
    "# Crear un histograma de la muestra\n",
    "plt.hist(sample, density=True, alpha=0.5, label='Muestra')\n",
    "\n",
    "# Crear una línea que representa la distribución ajustada\n",
    "x = np.linspace(sample.min(), sample.max(), 100)\n",
    "y = expon.pdf(x, *params_exp)\n",
    "plt.plot(x, y, label='Distribución Exponencial')\n",
    "\n",
    "# Agregar una leyenda al gráfico\n",
    "plt.legend()\n",
    "\n",
    "# Mostrar el gráfico\n",
    "plt.show()\n",
    "\n",
    "# Realizar la prueba de Kolmogorov-Smirnov\n",
    "ks_statistic, p_value = kstest(sample, 'expon', args=params_exp)\n",
    "print(\"Test de Kolmogorov-Smirnov para la distribución : KS statistic = {:.3f}, p-value = {:.3f}\".format(ks_statistic, p_value))\n",
    "\n",
    "# Realizar la prueba de Shapiro-Wilk\n",
    "sw_statistic, p_value = shapiro(sample)\n",
    "print('Test de Shapiro-Wilk para la distribución : W = {:.3f}, p-value = {:.3f}'.format(sw_statistic, p_value))\n",
    "\n",
    "# Realizar la prueba de Anderson-Darling\n",
    "ad_statistic, critical_values, significance_level = anderson(sample, dist='expon')\n",
    "print('Test de Anderson-Darling para la distribución : A2 = {:.3f}'.format(ad_statistic))\n",
    "for i in range(len(critical_values)):\n",
    "    sl, cv = significance_level[i], critical_values[i]\n",
    "    if ad_statistic < cv:\n",
    "        print('%.1f%% Nivel de Significación: %.3f, Valor Crítico: %.3f => No se puede rechazar la hipótesis nula'%(sl, sl/100, cv))\n",
    "    else:\n",
    "        print('%.1f%% Nivel de Significación: %.3f, Valor Crítico: %.3f => Se rechaza la hipótesis nula'%(sl, sl/100, cv))\n",
    "\n",
    "# Realizar la prueba de Cramér-von Mises\n",
    "result = cramervonmises(sample, expon.cdf, args=params_exp)\n",
    "cv_statistic = result.statistic\n",
    "p_value = result.pvalue\n",
    "print('Test de Cramér-von Mises para la distribución : W2 = {:.3f}, p-value = {:.3f}'.format(cv_statistic, p_value))\n"
   ]
  },
  {
   "cell_type": "code",
   "execution_count": 24,
   "metadata": {},
   "outputs": [
    {
     "name": "stdout",
     "output_type": "stream",
     "text": [
      "data_Alzira.txt\n",
      "data_Artana.txt\n",
      "data_Llutxent.txt\n",
      "data_Montan.txt\n"
     ]
    },
    {
     "data": {
      "image/png": "[encoded data removed]",
      "text/plain": [
       "<Figure size 432x288 with 1 Axes>"
      ]
     },
     "metadata": {
      "needs_background": "light"
     },
     "output_type": "display_data"
    }
   ],
   "source": [
    "import numpy as np\n",
    "from statsmodels.distributions.empirical_distribution import ECDF\n",
    "\n",
    "sample = []\n",
    "\n",
    "for i, file in enumerate(os.listdir(path)):\n",
    "    \n",
    "    print(file)\n",
    "    df = pd.read_csv(path + file, sep=\"\\t\", encoding='ISO-8859-1')    \n",
    "    df['Fecha'] = pd.to_datetime(df['FECHA'], format='%d/%m/%Y')\n",
    "    inicio, fin = fechas[i]\n",
    "    df = df[(df['Fecha']>= inicio) & (df['Fecha']<= fin)]\n",
    "    df['Veloc.'] = df['Veloc.'].astype('str').str.replace(',', '.').astype('float')\n",
    "    sample.extend(df['Veloc.'].to_list())\n",
    "\n",
    "# Convertir la lista en un arreglo de NumPy y eliminar los valores NaN\n",
    "sample = 3.6* np.array(sample, dtype='float')\n",
    "sample = sample[~np.isnan(sample)]\n",
    "\n",
    "# Calcular la ECDF de la muestra\n",
    "ecdf = ECDF(sample)\n",
    "\n",
    "# Ajustar la distribución exponencial a los datos con MLE\n",
    "params = expon.fit(sample)\n",
    "dist = expon(*params)\n",
    "\n",
    "# Evaluar la F(x) de la distribución ajustada y la ECDF en puntos específicos\n",
    "x = np.linspace(min(sample), max(sample), num=100)\n",
    "y_dist = dist.cdf(x)\n",
    "y_ecdf = ecdf(x)\n",
    "\n",
    "# Graficar la F(x) de la distribución ajustada y la ECDF\n",
    "plt.plot(x, y_dist, label='Exponencial ajustada')\n",
    "plt.step(x, y_ecdf, label='Empírica')\n",
    "plt.title('Distribución acumulada empírica y exponencial ajustada')\n",
    "plt.xlabel('x')\n",
    "plt.ylabel('F(x)')\n",
    "plt.legend()\n",
    "plt.show()"
   ]
  },
  {
   "cell_type": "code",
   "execution_count": 25,
   "metadata": {},
   "outputs": [
    {
     "data": {
      "text/plain": [
       "(0.36000000000000004,\n",
       " 27.0,\n",
       " 4.190150232177,\n",
       " 4.183609882191838,\n",
       " 17.502591646373205)"
      ]
     },
     "execution_count": 25,
     "metadata": {},
     "output_type": "execute_result"
    }
   ],
   "source": [
    "sample.min(), sample.max(), sample.mean(), sample.std(), sample.var()"
   ]
  },
  {
   "cell_type": "code",
   "execution_count": 26,
   "metadata": {},
   "outputs": [
    {
     "name": "stdout",
     "output_type": "stream",
     "text": [
      "Momentos de la muestra:\n"
     ]
    },
    {
     "data": {
      "image/png": "[encoded data removed]",
      "text/plain": [
       "<Figure size 432x288 with 1 Axes>"
      ]
     },
     "metadata": {
      "needs_background": "light"
     },
     "output_type": "display_data"
    },
    {
     "name": "stdout",
     "output_type": "stream",
     "text": [
      "Momento 1: 0.0\n",
      "Momento 2: 17.502591646373205\n",
      "Momento 3: 103.37054530859633\n",
      "Momento 4: 1608.2792089120076\n",
      "Momento 5: 22339.954918817366\n",
      "Momento 6: 365526.72136279236\n",
      "Momento 7: 6282206.564684805\n",
      "Momento 8: 113403994.53562641\n",
      "Momento 9: 2115308783.459445\n",
      "\n",
      "Función generadora de momentos empírica:\n",
      "Momento 1: 192611190.70805597\n",
      "Momento 2: 5.44811324273024e+19\n",
      "Momento 3: 2.3861757922978844e+31\n",
      "Momento 4: 1.171035259887775e+43\n",
      "Momento 5: 6.00849201395174e+54\n",
      "Momento 6: 3.1439409879653134e+66\n",
      "Momento 7: 1.659796593665862e+78\n",
      "Momento 8: 8.798757323931228e+89\n",
      "Momento 9: 4.6732718501643673e+101\n"
     ]
    }
   ],
   "source": [
    "# Calcular la función generadora de momentos empírica\n",
    "def empirical_mgf(sample, t):\n",
    "    n = len(sample)\n",
    "    return np.mean(np.exp(t * sample))\n",
    "\n",
    "# Calcular los momentos de la muestra para comparación\n",
    "print('Momentos de la muestra:')\n",
    "momts = [moment(sample, i) for i in range(1, 10)]\n",
    "plt.plot(momts)\n",
    "plt.title('Momentos de la muestra')\n",
    "plt.xlabel('Orden')\n",
    "plt.ylabel('Momento')\n",
    "plt.show()\n",
    "\n",
    "for i in range(1, 10):\n",
    "    print(f'Momento {i}: {moment(sample, i)}')\n",
    "\n",
    "# Calcular la función generadora de momentos empírica para comparación\n",
    "print('\\nFunción generadora de momentos empírica:')\n",
    "for i in range(1, 10):\n",
    "    print(f'Momento {i}: {empirical_mgf(sample, i)}')"
   ]
  },
  {
   "cell_type": "code",
   "execution_count": 27,
   "metadata": {},
   "outputs": [
    {
     "name": "stdout",
     "output_type": "stream",
     "text": [
      "Momentos de la muestra:\n",
      "Momento 1: 0.0\n",
      "Momento 2: 17.502591646373205\n",
      "Momento 3: 103.37054530859633\n",
      "Momento 4: 1608.2792089120076\n",
      "\n",
      "Función generadora de momentos empírica:\n",
      "Momento 1: -0.35333813330141944\n",
      "Momento 2: -0.15014337646657397\n",
      "Momento 3: -0.09532478907990881\n",
      "Momento 4: -0.06982947189006122\n"
     ]
    }
   ],
   "source": [
    "# Ajustar la distribución exponencial a los datos con MLE\n",
    "params = expon.fit(sample)\n",
    "dist = expon(*params)\n",
    "\n",
    "# Obtener el parámetro de tasa\n",
    "lmbda = 1 / params[1]\n",
    "\n",
    "# Calcular la función generadora de momentos empírica para comparación\n",
    "def exp_mgf(t, lmbda):\n",
    "    return lmbda / (lmbda - t)\n",
    "\n",
    "# Calcular los momentos de la muestra para comparación\n",
    "print('Momentos de la muestra:')\n",
    "for i in range(1, 5):\n",
    "    print(f'Momento {i}: {moment(sample, i)}')\n",
    "\n",
    "# Calcular la función generadora de momentos empírica para comparación\n",
    "print('\\nFunción generadora de momentos empírica:')\n",
    "for i in range(1, 5):\n",
    "    print(f'Momento {i}: {exp_mgf(i, lmbda)}')"
   ]
  },
  {
   "cell_type": "code",
   "execution_count": 28,
   "metadata": {},
   "outputs": [
    {
     "data": {
      "text/plain": [
       "(0.36000000000000004, 3.8301502321770005)"
      ]
     },
     "execution_count": 28,
     "metadata": {},
     "output_type": "execute_result"
    }
   ],
   "source": [
    "params"
   ]
  },
  {
   "attachments": {},
   "cell_type": "markdown",
   "metadata": {},
   "source": [
    "# 2. Otras transformaciones"
   ]
  },
  {
   "cell_type": "code",
   "execution_count": 29,
   "metadata": {},
   "outputs": [
    {
     "name": "stdout",
     "output_type": "stream",
     "text": [
      "data_Alzira.txt\n",
      "data_Artana.txt\n",
      "data_Llutxent.txt\n",
      "data_Montan.txt\n",
      "Valores:      1.335547833276586 0.7973490934836956 0.3074846997479607 3.332204510175204\n"
     ]
    },
    {
     "data": {
      "text/plain": [
       "(array([0.98117133, 0.32193979, 0.20228475, 0.27498083, 0.44836776,\n",
       "        0.40276338, 0.37025333, 0.21176685, 0.06953538, 0.02302795]),\n",
       " array([0.3074847 , 0.60995668, 0.91242866, 1.21490064, 1.51737262,\n",
       "        1.8198446 , 2.12231659, 2.42478857, 2.72726055, 3.02973253,\n",
       "        3.33220451]),\n",
       " <BarContainer object of 10 artists>)"
      ]
     },
     "execution_count": 29,
     "metadata": {},
     "output_type": "execute_result"
    },
    {
     "data": {
      "image/png": "[encoded data removed]",
      "text/plain": [
       "<Figure size 432x288 with 1 Axes>"
      ]
     },
     "metadata": {
      "needs_background": "light"
     },
     "output_type": "display_data"
    }
   ],
   "source": [
    "sample = []\n",
    "\n",
    "for i, file in enumerate(os.listdir(path)):\n",
    "    \n",
    "    print(file)\n",
    "    df = pd.read_csv(path + file, sep=\"\\t\", encoding='ISO-8859-1')    \n",
    "    df['Fecha'] = pd.to_datetime(df['FECHA'], format='%d/%m/%Y')\n",
    "    inicio, fin = fechas[i]\n",
    "    df = df[(df['Fecha']>= inicio) & (df['Fecha']<= fin)]\n",
    "    df['Veloc.'] = df['Veloc.'].astype('str').str.replace(',', '.').astype('float')\n",
    "    sample.extend(df['Veloc.'].to_list())\n",
    "\n",
    "sample = 3.6* np.array(sample, dtype='float') + 1\n",
    "sample = np.log(sample[~np.isnan(sample)])\n",
    "\n",
    "print('Valores:     ', sample.mean(), sample.std(), sample.min(), sample.max())\n",
    "\n",
    "# Crear un histograma de la muestra\n",
    "plt.hist(sample, density=True, alpha=0.5, label='Muestra')"
   ]
  },
  {
   "cell_type": "code",
   "execution_count": 30,
   "metadata": {},
   "outputs": [
    {
     "name": "stdout",
     "output_type": "stream",
     "text": [
      "norm:\n",
      "    params = (1.335547833276586, 0.7973490934836956)\n",
      "    p-value = 0.000\n",
      "expon:\n",
      "    params = (0.3074846997479607, 1.0280631335286252)\n",
      "    p-value = 0.000\n",
      "gamma:\n",
      "    params = (25.43220456928505, -2.688551550364024, 0.15802108194945677)\n",
      "    p-value = 0.000\n",
      "beta:\n",
      "    params = (1.416309354315783, 2.133452374285465, 0.0035609893986846873, 3.3346466244575255)\n",
      "    p-value = 0.000\n"
     ]
    },
    {
     "data": {
      "image/png": "[encoded data removed]",
      "text/plain": [
       "<Figure size 432x288 with 1 Axes>"
      ]
     },
     "metadata": {
      "needs_background": "light"
     },
     "output_type": "display_data"
    }
   ],
   "source": [
    "# Lista de distribuciones para ajustar\n",
    "distributions = [norm, expon, gamma, beta]\n",
    "\n",
    "# Parámetros de ajuste y p-values para cada distribución\n",
    "params = []\n",
    "p_values = []\n",
    "\n",
    "# Ajuste cada distribución a los datos y calcule los parámetros y p-values\n",
    "for distribution in distributions:\n",
    "    # Ajuste la distribución a los datos\n",
    "    params_dist = distribution.fit(sample)\n",
    "    # Calcule el p-value de la distribución ajustada\n",
    "    _, p_value = kstest(sample, distribution.cdf, args=params_dist)\n",
    "    # Agregue los parámetros y p-values a la lista\n",
    "    params.append(params_dist)\n",
    "    p_values.append(p_value)\n",
    "\n",
    "# Imprima los resultados\n",
    "for i in range(len(distributions)):\n",
    "    print('{}:\\n    params = {}\\n    p-value = {:.3f}'.format(distributions[i].name, params[i], p_values[i]))\n",
    "\n",
    "# Trace un histograma de los datos de muestra\n",
    "plt.hist(sample, bins=50, density=True, alpha=0.6, color='g')\n",
    "\n",
    "# Trace cada distribución ajustada\n",
    "for i, distribution in enumerate(distributions):\n",
    "    # Cree un vector de x para trazar la distribución ajustada\n",
    "    x = np.linspace(sample.min(), sample.max(), 1000)\n",
    "    # Trace la distribución ajustada\n",
    "    plt.plot(x, distribution.pdf(x, *params[i]), label=distribution.name)\n",
    "    # Agregue el p-value a la leyenda\n",
    "    plt.legend(title='Distribución\\n(p-value)', loc='best')\n",
    "    plt.annotate('({:.3f})'.format(p_values[i]), xy=(0.85, 0.9-i*0.1), xycoords='axes fraction')\n",
    "\n",
    "plt.show()"
   ]
  },
  {
   "cell_type": "code",
   "execution_count": 31,
   "metadata": {},
   "outputs": [
    {
     "name": "stdout",
     "output_type": "stream",
     "text": [
      "data_Alzira.txt\n",
      "data_Artana.txt\n",
      "data_Llutxent.txt\n",
      "data_Montan.txt\n"
     ]
    },
    {
     "data": {
      "image/png": "[encoded data removed]",
      "text/plain": [
       "<Figure size 432x288 with 1 Axes>"
      ]
     },
     "metadata": {
      "needs_background": "light"
     },
     "output_type": "display_data"
    }
   ],
   "source": [
    "import numpy as np\n",
    "from statsmodels.distributions.empirical_distribution import ECDF\n",
    "\n",
    "sample = []\n",
    "\n",
    "for i, file in enumerate(os.listdir(path)):\n",
    "    \n",
    "    print(file)\n",
    "    df = pd.read_csv(path + file, sep=\"\\t\", encoding='ISO-8859-1')    \n",
    "    df['Fecha'] = pd.to_datetime(df['FECHA'], format='%d/%m/%Y')\n",
    "    inicio, fin = fechas[i]\n",
    "    df = df[(df['Fecha']>= inicio) & (df['Fecha']<= fin)]\n",
    "    df['Veloc.'] = df['Veloc.'].astype('str').str.replace(',', '.').astype('float')\n",
    "    sample.extend(df['Veloc.'].to_list())\n",
    "\n",
    "# Convertir la lista en un arreglo de NumPy y eliminar los valores NaN\n",
    "sample = 3.6* np.array(sample, dtype='float') + 1\n",
    "sample = np.log(sample[~np.isnan(sample)])\n",
    "\n",
    "# Calcular la ECDF de la muestra\n",
    "ecdf = ECDF(sample)\n",
    "\n",
    "# Evaluar la ECDF en puntos específicos\n",
    "x = np.linspace(min(sample), max(sample), num=100)\n",
    "y = ecdf(x)\n",
    "\n",
    "# Plotear la ECDF\n",
    "import matplotlib.pyplot as plt\n",
    "plt.step(x, y)\n",
    "plt.title('Distribución acumulada empírica')\n",
    "plt.xlabel('x')\n",
    "plt.ylabel('F(x)')\n",
    "plt.show()\n"
   ]
  }
 ],
 "metadata": {
  "kernelspec": {
   "display_name": "Python 3",
   "language": "python",
   "name": "python3"
  },
  "language_info": {
   "codemirror_mode": {
    "name": "ipython",
    "version": 3
   },
   "file_extension": ".py",
   "mimetype": "text/x-python",
   "name": "python",
   "nbconvert_exporter": "python",
   "pygments_lexer": "ipython3",
   "version": "3.10.4"
  },
  "orig_nbformat": 4,
  "vscode": {
   "interpreter": {
    "hash": "f8852db887e4898adf41e8dfeeeb2275e3a600f3c56ac76bec9205a61cab2c77"
   }
  }
 },
 "nbformat": 4,
 "nbformat_minor": 2
}
