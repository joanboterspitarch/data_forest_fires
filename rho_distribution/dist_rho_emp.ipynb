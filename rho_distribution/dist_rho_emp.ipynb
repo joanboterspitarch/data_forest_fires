{
 "cells": [
  {
   "cell_type": "code",
   "execution_count": 1,
   "metadata": {},
   "outputs": [],
   "source": [
    "import numpy as np\n",
    "import pandas as pd\n",
    "import matplotlib.pyplot as plt\n",
    "import os \n",
    "import json\n",
    "import sys \n",
    "import seaborn as sns\n",
    "from scipy.stats import beta, gamma, norm, lognorm, expon, kstest, shapiro, anderson, cramervonmises, moment\n",
    "from statsmodels.distributions.empirical_distribution import ECDF"
   ]
  },
  {
   "cell_type": "code",
   "execution_count": 2,
   "metadata": {},
   "outputs": [],
   "source": [
    "path = 'C:\\\\Users\\\\joanb\\\\\\Desktop\\\\data_incendios\\\\rho_distribution\\\\datos_distrib\\\\'"
   ]
  },
  {
   "cell_type": "code",
   "execution_count": 3,
   "metadata": {},
   "outputs": [
    {
     "name": "stdout",
     "output_type": "stream",
     "text": [
      "Benicarlo_2018.txt\n",
      "Benicarlo_2019.txt\n",
      "Benicarlo_2020.txt\n",
      "Benicarlo_2021.txt\n",
      "Benicarlo_2022.txt\n",
      "Callosa_2018.txt\n",
      "Callosa_2019.txt\n",
      "Callosa_2020.txt\n",
      "Callosa_2021.txt\n",
      "Callosa_2022.txt\n",
      "Carcaixent_2018.txt\n",
      "Carcaixent_2019.txt\n",
      "Carcaixent_2020.txt\n",
      "Carcaixent_2021.txt\n",
      "Carcaixent_2022.txt\n",
      "Llutxent_2018.txt\n",
      "Llutxent_2019.txt\n",
      "Llutxent_2020.txt\n",
      "Llutxent_2021.txt\n",
      "Llutxent_2022.txt\n",
      "Onda_2018.txt\n",
      "Onda_2019.txt\n",
      "Onda_2020.txt\n",
      "Onda_2021.txt\n",
      "Onda_2022.txt\n",
      "Segorbe_2018.txt\n",
      "Segorbe_2019.txt\n",
      "Segorbe_2020.txt\n",
      "Segorbe_2021.txt\n",
      "Segorbe_2022.txt\n",
      "Villena_2018.txt\n",
      "Villena_2019.txt\n",
      "Villena_2020.txt\n",
      "Villena_2021.txt\n",
      "Villena_2022.txt\n"
     ]
    }
   ],
   "source": [
    "sample = []\n",
    "\n",
    "for file in os.listdir(path):\n",
    "\n",
    "    print(file)\n",
    "    # Leemos el fichero y seleccionamos las variables de interés\n",
    "    with open(os.path.join(path, file), 'r') as f:\n",
    "        data = json.load(f)\n",
    "\n",
    "    df = pd.json_normalize(data, 'data')\n",
    "    sample.extend(df['viento'].to_list())\n",
    "    \n",
    "sample = np.array(sample, dtype=np.float64)"
   ]
  },
  {
   "cell_type": "code",
   "execution_count": 4,
   "metadata": {},
   "outputs": [
    {
     "data": {
      "text/plain": [
       "153952"
      ]
     },
     "execution_count": 4,
     "metadata": {},
     "output_type": "execute_result"
    }
   ],
   "source": [
    "sample = sample[~np.isnan(sample)]\n",
    "sample.size"
   ]
  },
  {
   "cell_type": "code",
   "execution_count": 5,
   "metadata": {},
   "outputs": [
    {
     "data": {
      "text/plain": [
       "(array([2.05160332e-01, 1.35453760e-01, 1.30766705e-01, 1.73677874e-01,\n",
       "        2.01029731e-01, 1.48252203e-01, 1.24003648e-01, 1.14715145e-01,\n",
       "        1.16363105e-01, 1.14993372e-01, 1.16555724e-01, 1.24281875e-01,\n",
       "        1.14907764e-01, 1.09364625e-01, 1.03735878e-01, 8.90540521e-02,\n",
       "        7.79463729e-02, 7.20608011e-02, 6.09103178e-02, 5.62446645e-02,\n",
       "        5.40616524e-02, 4.98882469e-02, 4.98240407e-02, 4.50085728e-02,\n",
       "        4.57148414e-02, 4.51797895e-02, 4.52225936e-02, 4.78550494e-02,\n",
       "        3.81171033e-02, 3.43075332e-02, 3.25311606e-02, 3.11400254e-02,\n",
       "        3.08832005e-02, 2.73732595e-02, 2.62817534e-02, 2.38847205e-02,\n",
       "        2.14448835e-02, 2.03319754e-02, 1.74640967e-02, 1.72714780e-02,\n",
       "        1.54308992e-02, 1.41253724e-02, 1.26486289e-02, 1.15143187e-02,\n",
       "        1.14715145e-02, 1.07652459e-02, 9.88776065e-03, 9.30990451e-03,\n",
       "        9.33130658e-03, 8.06858390e-03, 7.68334648e-03, 7.25530489e-03,\n",
       "        6.69885083e-03, 6.52763419e-03, 6.03538637e-03, 5.92837597e-03,\n",
       "        5.32911775e-03, 4.51583874e-03, 4.81546785e-03, 4.28041586e-03,\n",
       "        3.65975556e-03, 2.95348695e-03, 3.59554933e-03, 2.61105368e-03,\n",
       "        2.33282665e-03, 1.79777466e-03, 1.51954763e-03, 1.60515595e-03,\n",
       "        1.19851644e-03, 1.00589773e-03, 1.15571228e-03, 9.20289411e-04,\n",
       "        9.63093570e-04, 6.42062380e-04, 7.06268618e-04, 4.28041586e-04,\n",
       "        3.21031190e-04, 5.99258221e-04, 2.56824952e-04, 2.78227031e-04,\n",
       "        2.78227031e-04, 3.42433269e-04, 2.14020793e-04, 1.28412476e-04,\n",
       "        6.42062380e-05, 6.42062380e-05, 2.14020793e-05, 4.28041586e-05,\n",
       "        6.42062380e-05, 4.28041586e-05, 6.42062380e-05, 0.00000000e+00,\n",
       "        4.28041586e-05, 4.28041586e-05, 2.14020793e-05, 0.00000000e+00,\n",
       "        0.00000000e+00, 0.00000000e+00, 0.00000000e+00, 2.14020793e-05]),\n",
       " array([ 0.    ,  0.3035,  0.607 ,  0.9105,  1.214 ,  1.5175,  1.821 ,\n",
       "         2.1245,  2.428 ,  2.7315,  3.035 ,  3.3385,  3.642 ,  3.9455,\n",
       "         4.249 ,  4.5525,  4.856 ,  5.1595,  5.463 ,  5.7665,  6.07  ,\n",
       "         6.3735,  6.677 ,  6.9805,  7.284 ,  7.5875,  7.891 ,  8.1945,\n",
       "         8.498 ,  8.8015,  9.105 ,  9.4085,  9.712 , 10.0155, 10.319 ,\n",
       "        10.6225, 10.926 , 11.2295, 11.533 , 11.8365, 12.14  , 12.4435,\n",
       "        12.747 , 13.0505, 13.354 , 13.6575, 13.961 , 14.2645, 14.568 ,\n",
       "        14.8715, 15.175 , 15.4785, 15.782 , 16.0855, 16.389 , 16.6925,\n",
       "        16.996 , 17.2995, 17.603 , 17.9065, 18.21  , 18.5135, 18.817 ,\n",
       "        19.1205, 19.424 , 19.7275, 20.031 , 20.3345, 20.638 , 20.9415,\n",
       "        21.245 , 21.5485, 21.852 , 22.1555, 22.459 , 22.7625, 23.066 ,\n",
       "        23.3695, 23.673 , 23.9765, 24.28  , 24.5835, 24.887 , 25.1905,\n",
       "        25.494 , 25.7975, 26.101 , 26.4045, 26.708 , 27.0115, 27.315 ,\n",
       "        27.6185, 27.922 , 28.2255, 28.529 , 28.8325, 29.136 , 29.4395,\n",
       "        29.743 , 30.0465, 30.35  ]),\n",
       " <BarContainer object of 100 artists>)"
      ]
     },
     "execution_count": 5,
     "metadata": {},
     "output_type": "execute_result"
    },
    {
     "data": {
      "image/png": "[encoded data removed]",
      "text/plain": [
       "<Figure size 432x288 with 1 Axes>"
      ]
     },
     "metadata": {
      "needs_background": "light"
     },
     "output_type": "display_data"
    }
   ],
   "source": [
    "plt.hist(sample, density=True, alpha=0.5, bins=100)"
   ]
  },
  {
   "cell_type": "code",
   "execution_count": 6,
   "metadata": {},
   "outputs": [
    {
     "data": {
      "image/png": "[encoded data removed]",
      "text/plain": [
       "<Figure size 432x288 with 1 Axes>"
      ]
     },
     "metadata": {
      "needs_background": "light"
     },
     "output_type": "display_data"
    }
   ],
   "source": [
    "\n",
    "# Calcular la ECDF de la muestra\n",
    "ecdf = ECDF(sample)\n",
    "\n",
    "# Ajustar la distribución exponencial a los datos con MLE\n",
    "params = expon.fit(sample)\n",
    "dist = expon(*params)\n",
    "\n",
    "# Evaluar la F(x) de la distribución ajustada y la ECDF en puntos específicos\n",
    "x = np.linspace(min(sample), max(sample), num=100)\n",
    "y_dist = dist.cdf(x)\n",
    "y_ecdf = ecdf(x)\n",
    "\n",
    "# Graficar la F(x) de la distribución ajustada y la ECDF\n",
    "plt.plot(x, y_dist, label='Exponencial ajustada')\n",
    "plt.step(x, y_ecdf, label='Empírica')\n",
    "plt.title('Distribución acumulada empírica y exponencial ajustada')\n",
    "plt.xlabel('x')\n",
    "plt.ylabel('F(x)')\n",
    "plt.legend()\n",
    "plt.show()"
   ]
  },
  {
   "cell_type": "code",
   "execution_count": 7,
   "metadata": {},
   "outputs": [
    {
     "name": "stdout",
     "output_type": "stream",
     "text": [
      "Test de Kolmogorov-Smirnov para la distribución : KS statistic = 0.051, p-value = 0.000\n"
     ]
    }
   ],
   "source": [
    "# Realizar la prueba de Kolmogorov-Smirnov\n",
    "ks_statistic, p_value = kstest(sample, 'expon', args=params)\n",
    "print(\"Test de Kolmogorov-Smirnov para la distribución : KS statistic = {:.3f}, p-value = {:.3f}\".format(ks_statistic, p_value))"
   ]
  },
  {
   "cell_type": "code",
   "execution_count": 8,
   "metadata": {},
   "outputs": [
    {
     "name": "stdout",
     "output_type": "stream",
     "text": [
      "(0.0, 4.598431329245479)\n"
     ]
    }
   ],
   "source": [
    "print(params)"
   ]
  },
  {
   "cell_type": "code",
   "execution_count": 9,
   "metadata": {},
   "outputs": [
    {
     "name": "stdout",
     "output_type": "stream",
     "text": [
      "0.217465463415778\n"
     ]
    }
   ],
   "source": [
    "lmbda = 1/params[1]\n",
    "print(lmbda)"
   ]
  },
  {
   "cell_type": "code",
   "execution_count": 10,
   "metadata": {},
   "outputs": [],
   "source": [
    "np.save('param_dist_rho.npy', params)"
   ]
  }
 ],
 "metadata": {
  "kernelspec": {
   "display_name": "Python 3",
   "language": "python",
   "name": "python3"
  },
  "language_info": {
   "codemirror_mode": {
    "name": "ipython",
    "version": 3
   },
   "file_extension": ".py",
   "mimetype": "text/x-python",
   "name": "python",
   "nbconvert_exporter": "python",
   "pygments_lexer": "ipython3",
   "version": "3.10.4"
  },
  "orig_nbformat": 4,
  "vscode": {
   "interpreter": {
    "hash": "f8852db887e4898adf41e8dfeeeb2275e3a600f3c56ac76bec9205a61cab2c77"
   }
  }
 },
 "nbformat": 4,
 "nbformat_minor": 2
}
