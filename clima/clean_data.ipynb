{
 "cells": [
  {
   "cell_type": "code",
   "execution_count": 16,
   "metadata": {},
   "outputs": [],
   "source": [
    "import numpy as np\n",
    "import pandas as pd\n",
    "import matplotlib.pyplot as plt\n",
    "import seaborn as sns\n",
    "import os\n",
    "import sys\n",
    "import warnings"
   ]
  },
  {
   "cell_type": "code",
   "execution_count": 17,
   "metadata": {},
   "outputs": [
    {
     "data": {
      "text/plain": [
       "['AVAMET', 'CLEAN_DATA', 'GVA', 'IVIA']"
      ]
     },
     "execution_count": 17,
     "metadata": {},
     "output_type": "execute_result"
    }
   ],
   "source": [
    "# Obtener el directorio actual\n",
    "path = os.getcwd()\n",
    "\n",
    "# Concatenar el directorio actual con la ruta al directorio de los datos\n",
    "path_data = os.path.join(path, \"raw\")\n",
    "os.listdir(path_data)"
   ]
  },
  {
   "cell_type": "code",
   "execution_count": 18,
   "metadata": {},
   "outputs": [],
   "source": [
    "path_save = os.path.join(path_data, \"CLEAN_DATA\")"
   ]
  },
  {
   "cell_type": "code",
   "execution_count": 19,
   "metadata": {},
   "outputs": [],
   "source": [
    "name_cols = ['Fecha', 'Hora', 'Velocidad', 'Direccion', 'Temperatura', 'Humedad']"
   ]
  },
  {
   "attachments": {},
   "cell_type": "markdown",
   "metadata": {},
   "source": [
    "Cada carpeta hace referencia a las diferentes fuentes de los datos climáticos. Puesto que cada formato tiene sus peculiaridades, vamos a limpiar los datos para obtener nuestros datos de forma única."
   ]
  },
  {
   "attachments": {},
   "cell_type": "markdown",
   "metadata": {},
   "source": [
    "# 1. CLEANING GVA DATA"
   ]
  },
  {
   "cell_type": "code",
   "execution_count": 20,
   "metadata": {},
   "outputs": [
    {
     "data": {
      "text/plain": [
       "['data_Alzira.txt', 'data_Artana.txt', 'data_Llutxent.txt', 'data_Montan.txt']"
      ]
     },
     "execution_count": 20,
     "metadata": {},
     "output_type": "execute_result"
    }
   ],
   "source": [
    "path_gva = os.path.join(path_data, \"GVA\")\n",
    "os.listdir(path_gva)"
   ]
  },
  {
   "cell_type": "code",
   "execution_count": 21,
   "metadata": {},
   "outputs": [],
   "source": [
    "vars = ['FECHA', 'HORA', 'Veloc.', 'Direc.', 'Temp.', 'H.Rel.']\n",
    "\n",
    "fechas = {\n",
    "    'Alzira': ('2016-06-16', '2016-06-18'),\n",
    "    'Artana': ('2016-07-25', '2016-07-27'),\n",
    "    'Llutxent': ('2018-08-06', '2018-08-08'),\n",
    "    'Montan': ('2015-07-07', '2015-07-10')\n",
    "}"
   ]
  },
  {
   "cell_type": "code",
   "execution_count": 22,
   "metadata": {},
   "outputs": [
    {
     "name": "stdout",
     "output_type": "stream",
     "text": [
      "data_Alzira.txt\n",
      "4009    00:00:00\n",
      "4010    01:00:00\n",
      "4011    02:00:00\n",
      "4012    03:00:00\n",
      "4013    04:00:00\n",
      "          ...   \n",
      "4076    19:00:00\n",
      "4077    20:00:00\n",
      "4078    21:00:00\n",
      "4079    22:00:00\n",
      "4080    23:00:00\n",
      "Name: HORA, Length: 72, dtype: object\n",
      "data_Artana.txt\n",
      "4945    00:00:00\n",
      "4946    01:00:00\n",
      "4947    02:00:00\n",
      "4948    03:00:00\n",
      "4949    04:00:00\n",
      "          ...   \n",
      "5012    19:00:00\n",
      "5013    20:00:00\n",
      "5014    21:00:00\n",
      "5015    22:00:00\n",
      "5016    23:00:00\n",
      "Name: HORA, Length: 72, dtype: object\n",
      "data_Llutxent.txt\n",
      "5098    00:00:00\n",
      "5099    01:00:00\n",
      "5100    02:00:00\n",
      "5101    03:00:00\n",
      "5102    04:00:00\n",
      "          ...   \n",
      "5165    19:00:00\n",
      "5166    20:00:00\n",
      "5167    21:00:00\n",
      "5168    22:00:00\n",
      "5169    23:00:00\n",
      "Name: HORA, Length: 72, dtype: object\n",
      "data_Montan.txt\n",
      "4487    00:00:00\n",
      "4488    01:00:00\n",
      "4489    02:00:00\n",
      "4490    03:00:00\n",
      "4491    04:00:00\n",
      "          ...   \n",
      "4578    19:00:00\n",
      "4579    20:00:00\n",
      "4580    21:00:00\n",
      "4581    22:00:00\n",
      "4582    23:00:00\n",
      "Name: HORA, Length: 96, dtype: object\n"
     ]
    }
   ],
   "source": [
    "for file, key in zip(os.listdir(path_gva), fechas.keys()):\n",
    "    print(file)\n",
    "    # Leemos el fichero y seleccionamos las variables de interés\n",
    "    df = pd.read_csv(os.path.join(path_gva, file), sep=\"\\t\", encoding='ISO-8859-1')\n",
    "    df = df[vars]\n",
    "    df['FECHA'] = pd.to_datetime(df['FECHA'], format='%d/%m/%Y')\n",
    "\n",
    "    # Fijamos el intervalo de interés\n",
    "    inicio, fin = fechas[key]\n",
    "    df = df[(df['FECHA'] >= inicio) & (df['FECHA'] <= fin)]\n",
    "    \n",
    "\n",
    "    # Cambiamos el formato de las fechas y variables.\n",
    "    df['HORA'] = df['HORA'].astype('int64').astype('str')\n",
    "    df['HORA'] = pd.to_datetime(df['HORA'], format='%H').dt.strftime('%H:%M:%S')\n",
    "    print(df.HORA)\n",
    "    try:\n",
    "        df['Veloc.'] = df['Veloc.'].astype('float')\n",
    "        df['Temp.'] = df['Temp.'].astype('float')\n",
    "    except:\n",
    "        df['Veloc.'] = df['Veloc.'].str.replace(\",\", \".\").astype('float')\n",
    "        df['Temp.'] = df['Temp.'].str.replace(\",\", \".\").astype('float')\n",
    "    df['Direc.'] = df['Direc.'].astype('float')\n",
    "    df['H.Rel.'] = df['H.Rel.'].astype('float') \n",
    "    df['Veloc.'] = df['Veloc.'] * 3.6 #  m/s -> km/h\n",
    "\n",
    "    # Cambiamos el nombre de las variables\n",
    "    df.columns = name_cols\n",
    "\n",
    "    # Guardamos el fichero\n",
    "    name = file.split(\".\")[0]\n",
    "    df.to_csv(os.path.join(path_save, name), sep = \";\", decimal = \".\", index = False)"
   ]
  },
  {
   "cell_type": "code",
   "execution_count": 23,
   "metadata": {},
   "outputs": [],
   "source": [
    "df = pd.read_csv(os.path.join(path_save, \"data_Alzira\"), sep = \";\", decimal = \".\")"
   ]
  },
  {
   "attachments": {},
   "cell_type": "markdown",
   "metadata": {},
   "source": [
    "# 2. Cleaning AVAMET data"
   ]
  },
  {
   "cell_type": "code",
   "execution_count": 24,
   "metadata": {},
   "outputs": [
    {
     "data": {
      "text/html": [
       "<div>\n",
       "<style scoped>\n",
       "    .dataframe tbody tr th:only-of-type {\n",
       "        vertical-align: middle;\n",
       "    }\n",
       "\n",
       "    .dataframe tbody tr th {\n",
       "        vertical-align: top;\n",
       "    }\n",
       "\n",
       "    .dataframe thead th {\n",
       "        text-align: right;\n",
       "    }\n",
       "</style>\n",
       "<table border=\"1\" class=\"dataframe\">\n",
       "  <thead>\n",
       "    <tr style=\"text-align: right;\">\n",
       "      <th></th>\n",
       "      <th>esta</th>\n",
       "      <th>data ini</th>\n",
       "      <th>vent gra_mit</th>\n",
       "      <th>vent vel_mit</th>\n",
       "      <th>vent vel_max</th>\n",
       "      <th>temp mit_mit</th>\n",
       "      <th>hrel mit_mit</th>\n",
       "      <th>pres mit_mit</th>\n",
       "      <th>prec tot_sum</th>\n",
       "      <th>prec tot</th>\n",
       "    </tr>\n",
       "  </thead>\n",
       "  <tbody>\n",
       "    <tr>\n",
       "      <th>0</th>\n",
       "      <td>c30m102e07</td>\n",
       "      <td>8/7/20 0:00</td>\n",
       "      <td>292</td>\n",
       "      <td>4,7</td>\n",
       "      <td>0,0</td>\n",
       "      <td>26,4</td>\n",
       "      <td>51,0</td>\n",
       "      <td>1016,0</td>\n",
       "      <td>0,00</td>\n",
       "      <td>0,00</td>\n",
       "    </tr>\n",
       "    <tr>\n",
       "      <th>1</th>\n",
       "      <td>c30m102e07</td>\n",
       "      <td>8/7/20 0:05</td>\n",
       "      <td>296</td>\n",
       "      <td>4,3</td>\n",
       "      <td>6,8</td>\n",
       "      <td>26,5</td>\n",
       "      <td>49,0</td>\n",
       "      <td>1016,0</td>\n",
       "      <td>0,00</td>\n",
       "      <td>0,00</td>\n",
       "    </tr>\n",
       "    <tr>\n",
       "      <th>2</th>\n",
       "      <td>c30m102e07</td>\n",
       "      <td>8/7/20 0:20</td>\n",
       "      <td>267</td>\n",
       "      <td>6,1</td>\n",
       "      <td>10,0</td>\n",
       "      <td>25,9</td>\n",
       "      <td>52,0</td>\n",
       "      <td>1016,0</td>\n",
       "      <td>0,00</td>\n",
       "      <td>0,00</td>\n",
       "    </tr>\n",
       "    <tr>\n",
       "      <th>3</th>\n",
       "      <td>c30m102e07</td>\n",
       "      <td>8/7/20 0:25</td>\n",
       "      <td>274</td>\n",
       "      <td>6,3</td>\n",
       "      <td>10,0</td>\n",
       "      <td>25,9</td>\n",
       "      <td>52,0</td>\n",
       "      <td>1016,0</td>\n",
       "      <td>0,00</td>\n",
       "      <td>0,00</td>\n",
       "    </tr>\n",
       "    <tr>\n",
       "      <th>4</th>\n",
       "      <td>c30m102e07</td>\n",
       "      <td>8/7/20 0:30</td>\n",
       "      <td>268</td>\n",
       "      <td>5,3</td>\n",
       "      <td>10,0</td>\n",
       "      <td>25,9</td>\n",
       "      <td>52,0</td>\n",
       "      <td>1016,0</td>\n",
       "      <td>0,00</td>\n",
       "      <td>0,00</td>\n",
       "    </tr>\n",
       "    <tr>\n",
       "      <th>...</th>\n",
       "      <td>...</td>\n",
       "      <td>...</td>\n",
       "      <td>...</td>\n",
       "      <td>...</td>\n",
       "      <td>...</td>\n",
       "      <td>...</td>\n",
       "      <td>...</td>\n",
       "      <td>...</td>\n",
       "      <td>...</td>\n",
       "      <td>...</td>\n",
       "    </tr>\n",
       "    <tr>\n",
       "      <th>2863</th>\n",
       "      <td>c30m136e03</td>\n",
       "      <td>8/11/20 23:35</td>\n",
       "      <td>293</td>\n",
       "      <td>12,2</td>\n",
       "      <td>74,5</td>\n",
       "      <td>25,2</td>\n",
       "      <td>67,0</td>\n",
       "      <td>1012,2</td>\n",
       "      <td>0,00</td>\n",
       "      <td>0,00</td>\n",
       "    </tr>\n",
       "    <tr>\n",
       "      <th>2864</th>\n",
       "      <td>c30m136e03</td>\n",
       "      <td>8/11/20 23:40</td>\n",
       "      <td>293</td>\n",
       "      <td>17,3</td>\n",
       "      <td>74,5</td>\n",
       "      <td>25,1</td>\n",
       "      <td>71,0</td>\n",
       "      <td>1012,4</td>\n",
       "      <td>0,00</td>\n",
       "      <td>0,00</td>\n",
       "    </tr>\n",
       "    <tr>\n",
       "      <th>2865</th>\n",
       "      <td>c30m136e03</td>\n",
       "      <td>8/11/20 23:45</td>\n",
       "      <td>293</td>\n",
       "      <td>6,1</td>\n",
       "      <td>74,5</td>\n",
       "      <td>24,3</td>\n",
       "      <td>73,0</td>\n",
       "      <td>1012,5</td>\n",
       "      <td>0,00</td>\n",
       "      <td>0,00</td>\n",
       "    </tr>\n",
       "    <tr>\n",
       "      <th>2866</th>\n",
       "      <td>c30m136e03</td>\n",
       "      <td>8/11/20 23:50</td>\n",
       "      <td>293</td>\n",
       "      <td>11,2</td>\n",
       "      <td>74,5</td>\n",
       "      <td>24,3</td>\n",
       "      <td>73,0</td>\n",
       "      <td>1012,5</td>\n",
       "      <td>0,00</td>\n",
       "      <td>0,00</td>\n",
       "    </tr>\n",
       "    <tr>\n",
       "      <th>2867</th>\n",
       "      <td>c30m136e03</td>\n",
       "      <td>8/11/20 23:55</td>\n",
       "      <td>293</td>\n",
       "      <td>2,5</td>\n",
       "      <td>74,5</td>\n",
       "      <td>24,3</td>\n",
       "      <td>73,0</td>\n",
       "      <td>1012,3</td>\n",
       "      <td>0,00</td>\n",
       "      <td>0,00</td>\n",
       "    </tr>\n",
       "  </tbody>\n",
       "</table>\n",
       "<p>2868 rows × 10 columns</p>\n",
       "</div>"
      ],
      "text/plain": [
       "            esta       data ini  vent gra_mit vent vel_mit vent vel_max  \\\n",
       "0     c30m102e07    8/7/20 0:00           292          4,7          0,0   \n",
       "1     c30m102e07    8/7/20 0:05           296          4,3          6,8   \n",
       "2     c30m102e07    8/7/20 0:20           267          6,1         10,0   \n",
       "3     c30m102e07    8/7/20 0:25           274          6,3         10,0   \n",
       "4     c30m102e07    8/7/20 0:30           268          5,3         10,0   \n",
       "...          ...            ...           ...          ...          ...   \n",
       "2863  c30m136e03  8/11/20 23:35           293         12,2         74,5   \n",
       "2864  c30m136e03  8/11/20 23:40           293         17,3         74,5   \n",
       "2865  c30m136e03  8/11/20 23:45           293          6,1         74,5   \n",
       "2866  c30m136e03  8/11/20 23:50           293         11,2         74,5   \n",
       "2867  c30m136e03  8/11/20 23:55           293          2,5         74,5   \n",
       "\n",
       "     temp mit_mit hrel mit_mit pres mit_mit prec tot_sum prec tot  \n",
       "0            26,4         51,0       1016,0         0,00     0,00  \n",
       "1            26,5         49,0       1016,0         0,00     0,00  \n",
       "2            25,9         52,0       1016,0         0,00     0,00  \n",
       "3            25,9         52,0       1016,0         0,00     0,00  \n",
       "4            25,9         52,0       1016,0         0,00     0,00  \n",
       "...           ...          ...          ...          ...      ...  \n",
       "2863         25,2         67,0       1012,2         0,00     0,00  \n",
       "2864         25,1         71,0       1012,4         0,00     0,00  \n",
       "2865         24,3         73,0       1012,5         0,00     0,00  \n",
       "2866         24,3         73,0       1012,5         0,00     0,00  \n",
       "2867         24,3         73,0       1012,3         0,00     0,00  \n",
       "\n",
       "[2868 rows x 10 columns]"
      ]
     },
     "execution_count": 24,
     "metadata": {},
     "output_type": "execute_result"
    }
   ],
   "source": [
    "path_avamet = os.path.join(path_data, \"AVAMET\")\n",
    "os.listdir(path_avamet)\n",
    "df = pd.read_csv(path_avamet + '\\\\' + os.listdir(path_avamet)[-1])\n",
    "df"
   ]
  },
  {
   "cell_type": "code",
   "execution_count": 25,
   "metadata": {},
   "outputs": [],
   "source": [
    "name_cols = ['Fecha', 'Hora', 'Direccion', 'Velocidad', 'Temperatura', 'Humedad']\n",
    "vars = ['Fecha', 'Hora', 'vent gra_mit', 'vent vel_mit', \"temp mit_mit\", \"hrel mit_mit\"]\n",
    "fechas = {\n",
    "    'Beneixama': ('2019-07-15', '2019-07-15', 'c28m140e17'),\n",
    "    'Beniarda': ('2020-08-28', '2020-08-29', 'c31m057e01'),\n",
    "    'VallGallinera': ('2020-08-08', '2020-08-10', 'c30m102e07')\n",
    "}"
   ]
  },
  {
   "cell_type": "code",
   "execution_count": 26,
   "metadata": {},
   "outputs": [
    {
     "name": "stdout",
     "output_type": "stream",
     "text": [
      "data_Beneixama.csv\n",
      "data_Beniarda.csv\n",
      "data_VallGallinera.csv\n"
     ]
    }
   ],
   "source": [
    "for file, key in zip(os.listdir(path_avamet), fechas.keys()):\n",
    "    print(file)\n",
    "    # Leemos el fichero y separamos fecha y hora. \n",
    "    df = pd.read_csv(os.path.join(path_avamet, file))\n",
    "    df[['Fecha', 'Hora']] = df['data ini'].str.split(\" \", expand = True)\n",
    "    df['Fecha'] = pd.to_datetime(df['Fecha'], format='%m/%d/%y')\n",
    "    df['Hora'] = df['Hora'].str.zfill(5)\n",
    "    df['Hora'] = pd.to_datetime(df['Hora'], format='%H:%M').dt.time\n",
    "    \n",
    "\n",
    "    # Seleccionamos y creamos las variables de interés. Fijamos el intervalo de interés\n",
    "    inicio, fin, esta = fechas[key]\n",
    "    df = df[(df['Fecha'] >= inicio) & (df['Fecha'] <= fin) & (df['esta'] == esta)]\n",
    "    df = df[vars]\n",
    "\n",
    "    # Cambiamos el formato de las fechas y variables.\n",
    "    try:\n",
    "        df['vent vel_mit'] = df['vent vel_mit'].astype('float')\n",
    "        df['temp mit_mit'] = df['temp mit_mit'].astype('float')\n",
    "        df['hrel mit_mit'] = df['hrel mit_mit'].astype('float')\n",
    "    except:\n",
    "        df['vent vel_mit'] = df['vent vel_mit'].astype('str').str.replace(\",\", \".\").astype('float')\n",
    "        df['temp mit_mit'] = df['temp mit_mit'].astype('str').str.replace(\",\", \".\").astype('float')\n",
    "        df['hrel mit_mit'] = df['hrel mit_mit'].astype('str').str.replace(\",\", \".\").astype('float')\n",
    "    \n",
    "    # Cambiamos el nombre de las variables y guradamos el fichero.\n",
    "    df.columns = name_cols\n",
    "    name = file.split(\".\")[0]\n",
    "    df.to_csv(os.path.join(path_save, name), sep = \";\", decimal = \".\", index = False)"
   ]
  },
  {
   "attachments": {},
   "cell_type": "markdown",
   "metadata": {},
   "source": [
    "# 3. Cleaning IVIA data"
   ]
  },
  {
   "cell_type": "code",
   "execution_count": 27,
   "metadata": {},
   "outputs": [],
   "source": [
    "import json"
   ]
  },
  {
   "cell_type": "code",
   "execution_count": 28,
   "metadata": {},
   "outputs": [
    {
     "data": {
      "text/plain": [
       "'data_Artana.txt'"
      ]
     },
     "execution_count": 28,
     "metadata": {},
     "output_type": "execute_result"
    }
   ],
   "source": [
    "path_ivia = os.path.join(path_data, \"IVIA\")\n",
    "os.listdir(path_ivia)[0]"
   ]
  },
  {
   "cell_type": "code",
   "execution_count": 29,
   "metadata": {},
   "outputs": [],
   "source": [
    "vars = ['fecha', 'hora', 'tmedia', 'hmedia', 'viento', 'direccion_num']\n",
    "name_cols = ['Fecha', 'Hora', 'Temperatura', 'Humedad', 'Velocidad', 'Direccion']"
   ]
  },
  {
   "cell_type": "code",
   "execution_count": 30,
   "metadata": {},
   "outputs": [
    {
     "name": "stdout",
     "output_type": "stream",
     "text": [
      "data_Artana.txt\n",
      "data_Bolulla.txt\n",
      "data_Carcaixent.txt\n",
      "data_Chella.txt\n",
      "data_Gatova.txt\n",
      "data_Llutxent.txt\n",
      "data_ValldEbo.txt\n"
     ]
    }
   ],
   "source": [
    "for file in os.listdir(path_ivia):\n",
    "    print(file)\n",
    "\n",
    "    # Leemos el fichero y seleccionamos las variables de interés\n",
    "    with open(os.path.join(path_ivia, file), 'r') as f:\n",
    "        data = json.load(f)\n",
    "\n",
    "    df = pd.json_normalize(data, 'data')\n",
    "    df = df[vars]\n",
    "\n",
    "    # Cambiamos el formato de las fechas y nombre de las columnas.\n",
    "    df['fecha'] = pd.to_datetime(df['fecha'], format='%d/%m/%Y')\n",
    "\n",
    "    # Convertir la columna 'Hora' a formato datetime\n",
    "    df['hora'] = pd.to_datetime(df['hora'], format='%H:%M', errors='coerce')\n",
    "\n",
    "    # Aplicar una corrección a los valores de hora que son mayores o iguales a 24\n",
    "    df['hora'] = pd.to_datetime(df['hora'].mask(df['hora'].dt.hour >= 24, df['hora'].dt.strftime('00:%M')), format='%H:%M', errors='coerce').dt.strftime('%H:%M:%S')\n",
    "\n",
    "    # Guardamos el fichero\n",
    "    df.columns = name_cols\n",
    "    name = file.split(\".\")[0]\n",
    "    df.to_csv(os.path.join(path_save, name), sep = \";\", decimal = \".\", index = False)    "
   ]
  }
 ],
 "metadata": {
  "kernelspec": {
   "display_name": "Python 3",
   "language": "python",
   "name": "python3"
  },
  "language_info": {
   "codemirror_mode": {
    "name": "ipython",
    "version": 3
   },
   "file_extension": ".py",
   "mimetype": "text/x-python",
   "name": "python",
   "nbconvert_exporter": "python",
   "pygments_lexer": "ipython3",
   "version": "3.10.4"
  },
  "orig_nbformat": 4,
  "vscode": {
   "interpreter": {
    "hash": "f8852db887e4898adf41e8dfeeeb2275e3a600f3c56ac76bec9205a61cab2c77"
   }
  }
 },
 "nbformat": 4,
 "nbformat_minor": 2
}
