{
 "cells": [
  {
   "cell_type": "code",
   "execution_count": 1,
   "metadata": {},
   "outputs": [],
   "source": [
    "import numpy as np\n",
    "import pandas as pd\n",
    "import matplotlib.pyplot as plt\n",
    "import seaborn as sns\n",
    "import os\n",
    "from sklearn.preprocessing import minmax_scale"
   ]
  },
  {
   "cell_type": "code",
   "execution_count": 2,
   "metadata": {},
   "outputs": [
    {
     "data": {
      "text/plain": [
       "['data_Alzira',\n",
       " 'data_Artana',\n",
       " 'data_Beneixama',\n",
       " 'data_Beniarda',\n",
       " 'data_Beniganim',\n",
       " 'data_Bolulla',\n",
       " 'data_Carcaixent',\n",
       " 'data_Chella',\n",
       " 'data_Cirat',\n",
       " 'data_Gatova',\n",
       " 'data_ValldEbo',\n",
       " 'data_VallGallinera']"
      ]
     },
     "execution_count": 2,
     "metadata": {},
     "output_type": "execute_result"
    }
   ],
   "source": [
    "path = 'C:\\\\Users\\\\joanb\\\\Desktop\\\\data_incendios\\\\clima\\\\raw\\\\CLEAN_DATA'\n",
    "os.listdir(path)"
   ]
  },
  {
   "cell_type": "code",
   "execution_count": 3,
   "metadata": {},
   "outputs": [],
   "source": [
    "df_time = pd.read_csv('time_init_end.csv')"
   ]
  },
  {
   "cell_type": "code",
   "execution_count": 4,
   "metadata": {},
   "outputs": [],
   "source": [
    "df_time['Inicio'] = pd.to_datetime(df_time['Dia Inicio'] + ' ' + df_time['Hora inicio'], format='%Y/%m/%d %H:%M')\n",
    "df_time['Fin'] = pd.to_datetime(df_time['Dia Fin'] + ' ' + df_time['Hora fin'], format='%Y/%m/%d %H:%M')"
   ]
  },
  {
   "cell_type": "code",
   "execution_count": 5,
   "metadata": {},
   "outputs": [
    {
     "data": {
      "text/html": [
       "<div>\n",
       "<style scoped>\n",
       "    .dataframe tbody tr th:only-of-type {\n",
       "        vertical-align: middle;\n",
       "    }\n",
       "\n",
       "    .dataframe tbody tr th {\n",
       "        vertical-align: top;\n",
       "    }\n",
       "\n",
       "    .dataframe thead th {\n",
       "        text-align: right;\n",
       "    }\n",
       "</style>\n",
       "<table border=\"1\" class=\"dataframe\">\n",
       "  <thead>\n",
       "    <tr style=\"text-align: right;\">\n",
       "      <th></th>\n",
       "      <th>Incendio</th>\n",
       "      <th>Inicio</th>\n",
       "      <th>Fin</th>\n",
       "    </tr>\n",
       "  </thead>\n",
       "  <tbody>\n",
       "    <tr>\n",
       "      <th>0</th>\n",
       "      <td>Artana</td>\n",
       "      <td>2016-07-25 15:00:00</td>\n",
       "      <td>2016-07-27 12:00:00</td>\n",
       "    </tr>\n",
       "    <tr>\n",
       "      <th>1</th>\n",
       "      <td>Beneixama</td>\n",
       "      <td>2019-07-15 14:00:00</td>\n",
       "      <td>2019-07-15 22:00:00</td>\n",
       "    </tr>\n",
       "    <tr>\n",
       "      <th>2</th>\n",
       "      <td>Beniarda</td>\n",
       "      <td>2020-08-28 21:00:00</td>\n",
       "      <td>2020-08-29 18:30:00</td>\n",
       "    </tr>\n",
       "    <tr>\n",
       "      <th>3</th>\n",
       "      <td>Bolulla</td>\n",
       "      <td>2016-09-05 14:00:00</td>\n",
       "      <td>2016-09-06 19:00:00</td>\n",
       "    </tr>\n",
       "    <tr>\n",
       "      <th>4</th>\n",
       "      <td>Carcaixent</td>\n",
       "      <td>2016-06-16 17:00:00</td>\n",
       "      <td>2016-06-18 09:00:00</td>\n",
       "    </tr>\n",
       "  </tbody>\n",
       "</table>\n",
       "</div>"
      ],
      "text/plain": [
       "     Incendio              Inicio                 Fin\n",
       "0      Artana 2016-07-25 15:00:00 2016-07-27 12:00:00\n",
       "1   Beneixama 2019-07-15 14:00:00 2019-07-15 22:00:00\n",
       "2    Beniarda 2020-08-28 21:00:00 2020-08-29 18:30:00\n",
       "3     Bolulla 2016-09-05 14:00:00 2016-09-06 19:00:00\n",
       "4  Carcaixent 2016-06-16 17:00:00 2016-06-18 09:00:00"
      ]
     },
     "execution_count": 5,
     "metadata": {},
     "output_type": "execute_result"
    }
   ],
   "source": [
    "df_time = df_time[['Incendio', 'Inicio', 'Fin']]\n",
    "df_time.head()"
   ]
  },
  {
   "cell_type": "code",
   "execution_count": 6,
   "metadata": {},
   "outputs": [
    {
     "name": "stdout",
     "output_type": "stream",
     "text": [
      "<class 'pandas.core.frame.DataFrame'>\n",
      "RangeIndex: 11 entries, 0 to 10\n",
      "Data columns (total 3 columns):\n",
      " #   Column    Non-Null Count  Dtype         \n",
      "---  ------    --------------  -----         \n",
      " 0   Incendio  11 non-null     object        \n",
      " 1   Inicio    11 non-null     datetime64[ns]\n",
      " 2   Fin       11 non-null     datetime64[ns]\n",
      "dtypes: datetime64[ns](2), object(1)\n",
      "memory usage: 392.0+ bytes\n",
      "None\n"
     ]
    }
   ],
   "source": [
    "print(df_time.info())"
   ]
  },
  {
   "attachments": {},
   "cell_type": "markdown",
   "metadata": {},
   "source": [
    "# 1. Obtenemos el campo Fecha Completa"
   ]
  },
  {
   "cell_type": "code",
   "execution_count": 7,
   "metadata": {},
   "outputs": [
    {
     "data": {
      "text/html": [
       "<div>\n",
       "<style scoped>\n",
       "    .dataframe tbody tr th:only-of-type {\n",
       "        vertical-align: middle;\n",
       "    }\n",
       "\n",
       "    .dataframe tbody tr th {\n",
       "        vertical-align: top;\n",
       "    }\n",
       "\n",
       "    .dataframe thead th {\n",
       "        text-align: right;\n",
       "    }\n",
       "</style>\n",
       "<table border=\"1\" class=\"dataframe\">\n",
       "  <thead>\n",
       "    <tr style=\"text-align: right;\">\n",
       "      <th></th>\n",
       "      <th>Fecha</th>\n",
       "      <th>Hora</th>\n",
       "      <th>Direccion</th>\n",
       "      <th>Velocidad</th>\n",
       "      <th>Temperatura</th>\n",
       "      <th>Humedad</th>\n",
       "    </tr>\n",
       "  </thead>\n",
       "  <tbody>\n",
       "    <tr>\n",
       "      <th>0</th>\n",
       "      <td>2019-07-15</td>\n",
       "      <td>00:00:00</td>\n",
       "      <td>67</td>\n",
       "      <td>3.2</td>\n",
       "      <td>18.8</td>\n",
       "      <td>75.0</td>\n",
       "    </tr>\n",
       "    <tr>\n",
       "      <th>1</th>\n",
       "      <td>2019-07-15</td>\n",
       "      <td>00:10:00</td>\n",
       "      <td>67</td>\n",
       "      <td>3.2</td>\n",
       "      <td>18.7</td>\n",
       "      <td>75.0</td>\n",
       "    </tr>\n",
       "    <tr>\n",
       "      <th>2</th>\n",
       "      <td>2019-07-15</td>\n",
       "      <td>00:20:00</td>\n",
       "      <td>67</td>\n",
       "      <td>1.6</td>\n",
       "      <td>18.7</td>\n",
       "      <td>76.0</td>\n",
       "    </tr>\n",
       "    <tr>\n",
       "      <th>3</th>\n",
       "      <td>2019-07-15</td>\n",
       "      <td>00:30:00</td>\n",
       "      <td>67</td>\n",
       "      <td>3.2</td>\n",
       "      <td>18.6</td>\n",
       "      <td>76.0</td>\n",
       "    </tr>\n",
       "    <tr>\n",
       "      <th>4</th>\n",
       "      <td>2019-07-15</td>\n",
       "      <td>00:40:00</td>\n",
       "      <td>67</td>\n",
       "      <td>3.2</td>\n",
       "      <td>18.6</td>\n",
       "      <td>76.0</td>\n",
       "    </tr>\n",
       "    <tr>\n",
       "      <th>...</th>\n",
       "      <td>...</td>\n",
       "      <td>...</td>\n",
       "      <td>...</td>\n",
       "      <td>...</td>\n",
       "      <td>...</td>\n",
       "      <td>...</td>\n",
       "    </tr>\n",
       "    <tr>\n",
       "      <th>1523</th>\n",
       "      <td>2019-07-15</td>\n",
       "      <td>23:36:00</td>\n",
       "      <td>23</td>\n",
       "      <td>7.6</td>\n",
       "      <td>23.3</td>\n",
       "      <td>65.0</td>\n",
       "    </tr>\n",
       "    <tr>\n",
       "      <th>1524</th>\n",
       "      <td>2019-07-15</td>\n",
       "      <td>23:41:00</td>\n",
       "      <td>23</td>\n",
       "      <td>9.1</td>\n",
       "      <td>23.1</td>\n",
       "      <td>66.0</td>\n",
       "    </tr>\n",
       "    <tr>\n",
       "      <th>1525</th>\n",
       "      <td>2019-07-15</td>\n",
       "      <td>23:46:00</td>\n",
       "      <td>23</td>\n",
       "      <td>7.1</td>\n",
       "      <td>23.0</td>\n",
       "      <td>65.0</td>\n",
       "    </tr>\n",
       "    <tr>\n",
       "      <th>1526</th>\n",
       "      <td>2019-07-15</td>\n",
       "      <td>23:51:00</td>\n",
       "      <td>68</td>\n",
       "      <td>9.1</td>\n",
       "      <td>22.9</td>\n",
       "      <td>66.0</td>\n",
       "    </tr>\n",
       "    <tr>\n",
       "      <th>1527</th>\n",
       "      <td>2019-07-15</td>\n",
       "      <td>23:56:00</td>\n",
       "      <td>68</td>\n",
       "      <td>8.1</td>\n",
       "      <td>22.8</td>\n",
       "      <td>67.0</td>\n",
       "    </tr>\n",
       "  </tbody>\n",
       "</table>\n",
       "<p>1528 rows × 6 columns</p>\n",
       "</div>"
      ],
      "text/plain": [
       "           Fecha      Hora  Direccion  Velocidad  Temperatura  Humedad\n",
       "0     2019-07-15  00:00:00         67        3.2         18.8     75.0\n",
       "1     2019-07-15  00:10:00         67        3.2         18.7     75.0\n",
       "2     2019-07-15  00:20:00         67        1.6         18.7     76.0\n",
       "3     2019-07-15  00:30:00         67        3.2         18.6     76.0\n",
       "4     2019-07-15  00:40:00         67        3.2         18.6     76.0\n",
       "...          ...       ...        ...        ...          ...      ...\n",
       "1523  2019-07-15  23:36:00         23        7.6         23.3     65.0\n",
       "1524  2019-07-15  23:41:00         23        9.1         23.1     66.0\n",
       "1525  2019-07-15  23:46:00         23        7.1         23.0     65.0\n",
       "1526  2019-07-15  23:51:00         68        9.1         22.9     66.0\n",
       "1527  2019-07-15  23:56:00         68        8.1         22.8     67.0\n",
       "\n",
       "[1528 rows x 6 columns]"
      ]
     },
     "execution_count": 7,
     "metadata": {},
     "output_type": "execute_result"
    }
   ],
   "source": [
    "df = pd.read_csv(path+'\\\\'+os.listdir(path)[2], sep=';')\n",
    "df"
   ]
  },
  {
   "cell_type": "code",
   "execution_count": 8,
   "metadata": {},
   "outputs": [
    {
     "name": "stdout",
     "output_type": "stream",
     "text": [
      "<class 'pandas.core.frame.DataFrame'>\n",
      "RangeIndex: 1528 entries, 0 to 1527\n",
      "Data columns (total 6 columns):\n",
      " #   Column       Non-Null Count  Dtype  \n",
      "---  ------       --------------  -----  \n",
      " 0   Fecha        1528 non-null   object \n",
      " 1   Hora         1528 non-null   object \n",
      " 2   Direccion    1528 non-null   int64  \n",
      " 3   Velocidad    1528 non-null   float64\n",
      " 4   Temperatura  1528 non-null   float64\n",
      " 5   Humedad      1528 non-null   float64\n",
      "dtypes: float64(3), int64(1), object(2)\n",
      "memory usage: 71.8+ KB\n"
     ]
    }
   ],
   "source": [
    "df.info()"
   ]
  },
  {
   "cell_type": "code",
   "execution_count": 9,
   "metadata": {},
   "outputs": [
    {
     "name": "stdout",
     "output_type": "stream",
     "text": [
      "data_Alzira\n",
      "data_Artana\n",
      "data_Beneixama\n",
      "data_Beniarda\n",
      "data_Beniganim\n",
      "data_Bolulla\n",
      "data_Carcaixent\n",
      "data_Chella\n",
      "data_Cirat\n",
      "data_Gatova\n",
      "data_ValldEbo\n",
      "data_VallGallinera\n"
     ]
    }
   ],
   "source": [
    "for file in os.listdir(path):\n",
    "    print(file)\n",
    "    df = pd.read_csv(path+'\\\\'+file, sep=';')\n",
    "    df['Fecha_Completa'] = pd.to_datetime(df['Fecha'] + ' ' + df['Hora'], format='%Y/%m/%d %H:%M')\n",
    "    df['Theta'] = df['Direccion'].astype('float') * (2*np.pi/360) # Convert to radians\n",
    "    \n",
    "    # Calcular la cantidad de segundos transcurridos\n",
    "    timestamps = pd.to_datetime(df['Fecha_Completa'], format='%Y/%m/%d %H:%M')\n",
    "    df['X'] = (df.Fecha.unique().size) * minmax_scale((timestamps - timestamps[0]).dt.total_seconds())\n",
    "    #df.to_csv(file, index=False) \n",
    "    "
   ]
  }
 ],
 "metadata": {
  "kernelspec": {
   "display_name": "Python 3",
   "language": "python",
   "name": "python3"
  },
  "language_info": {
   "codemirror_mode": {
    "name": "ipython",
    "version": 3
   },
   "file_extension": ".py",
   "mimetype": "text/x-python",
   "name": "python",
   "nbconvert_exporter": "python",
   "pygments_lexer": "ipython3",
   "version": "3.10.4"
  },
  "orig_nbformat": 4,
  "vscode": {
   "interpreter": {
    "hash": "f8852db887e4898adf41e8dfeeeb2275e3a600f3c56ac76bec9205a61cab2c77"
   }
  }
 },
 "nbformat": 4,
 "nbformat_minor": 2
}
